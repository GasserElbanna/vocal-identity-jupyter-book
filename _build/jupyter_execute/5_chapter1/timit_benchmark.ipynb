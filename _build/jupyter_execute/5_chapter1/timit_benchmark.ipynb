version https://git-lfs.github.com/spec/v1
oid sha256:740c995ddaeaa5e683b9ac50eb1defb9331bd4066df1b2ec15f5b69ec41a5a20
size 2182713

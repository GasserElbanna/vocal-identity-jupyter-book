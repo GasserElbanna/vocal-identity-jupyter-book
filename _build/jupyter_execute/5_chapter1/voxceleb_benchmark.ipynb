version https://git-lfs.github.com/spec/v1
oid sha256:d0a710cfcf5014b7b375b31ab3566ff17da8ea1d370fc8b67d52131822fb57af
size 738880

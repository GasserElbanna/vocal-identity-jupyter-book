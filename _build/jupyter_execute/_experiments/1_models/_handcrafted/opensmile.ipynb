{
 "cells": [
  {
   "cell_type": "markdown",
   "metadata": {},
   "source": [
    "# openSMILE Fetaures"
   ]
  },
  {
   "cell_type": "markdown",
   "metadata": {},
   "source": [
    "[openSMILE](https://audeering.github.io/opensmile/) is short for **open**-**S**ource **M**edia **I**nterpretation by **L**arge feature-space **E**xtraction. It is a toolkit to extract DSP-based features."
   ]
  },
  {
   "cell_type": "markdown",
   "metadata": {},
   "source": [
    "OpenSMILE generates low-level descriptors (LLDs) and compute functionals on LLD contours. The most commonly used feature sets are **eGeMAPS** and **ComParE** both comprises 88 and 6373 features, respectively."
   ]
  },
  {
   "cell_type": "markdown",
   "metadata": {},
   "source": [
    "We used these feature sets to extract handcrafted features from audios resampled to 16 kHz."
   ]
  },
  {
   "cell_type": "code",
   "execution_count": 4,
   "metadata": {},
   "outputs": [
    {
     "name": "stdout",
     "output_type": "stream",
     "text": [
      "The size of eGeMAPS embeddings is 88\n",
      "The size of ComParE embeddings is 6373\n"
     ]
    }
   ],
   "source": [
    "import librosa\n",
    "import opensmile\n",
    "\n",
    "egemaps = opensmile.Smile(\n",
    "        feature_set=opensmile.FeatureSet.eGeMAPSv02,\n",
    "        feature_level=opensmile.FeatureLevel.Functionals,\n",
    "    )\n",
    "compare = opensmile.Smile(\n",
    "        feature_set=opensmile.FeatureSet.ComParE_2016,\n",
    "        feature_level=opensmile.FeatureLevel.Functionals,\n",
    "    )\n",
    "\n",
    "y, sr = librosa.load('./p252_002_mic1.flac', sr=16000)\n",
    "egemaps_embeddings = egemaps.process_signal(y, sr).to_numpy().flatten()\n",
    "compare_embeddings = compare.process_signal(y, sr).to_numpy().flatten()\n",
    "\n",
    "print(f'The size of eGeMAPS embeddings is {egemaps_embeddings.shape[0]}')\n",
    "print(f'The size of ComParE embeddings is {compare_embeddings.shape[0]}')"
   ]
  }
 ],
 "metadata": {
  "kernelspec": {
   "display_name": "Python 3.8.10 ('serab')",
   "language": "python",
   "name": "python3"
  },
  "language_info": {
   "codemirror_mode": {
    "name": "ipython",
    "version": 3
   },
   "file_extension": ".py",
   "mimetype": "text/x-python",
   "name": "python",
   "nbconvert_exporter": "python",
   "pygments_lexer": "ipython3",
   "version": "3.8.10"
  },
  "vscode": {
   "interpreter": {
    "hash": "993b4f41d035a9600f4a883796b4aed3b9d432fcb6f84c031ca1e7ebf948a22f"
   }
  }
 },
 "nbformat": 4,
 "nbformat_minor": 2
}
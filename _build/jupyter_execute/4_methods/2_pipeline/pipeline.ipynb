version https://git-lfs.github.com/spec/v1
oid sha256:e0ab56944f561b1e34ae276e40389f82079904544bffab4d582763ee84582365
size 1605

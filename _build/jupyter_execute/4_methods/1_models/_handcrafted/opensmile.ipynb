version https://git-lfs.github.com/spec/v1
oid sha256:be8e31412f3638b45394853e44561a9c2eee4e65f6c61fab95f3f5a76e196cb1
size 2567

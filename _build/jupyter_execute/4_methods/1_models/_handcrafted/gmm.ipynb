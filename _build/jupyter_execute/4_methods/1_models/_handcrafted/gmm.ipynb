{
 "cells": [
  {
   "cell_type": "markdown",
   "metadata": {},
   "source": [
    "# GMM with MFCC"
   ]
  },
  {
   "cell_type": "markdown",
   "metadata": {},
   "source": [
    "Here, we are using **Gaussian Mixture Model (GMM)** as a feature extractor"
   ]
  },
  {
   "cell_type": "code",
   "execution_count": 9,
   "metadata": {},
   "outputs": [
    {
     "data": {
      "text/plain": [
       "GaussianMixture(n_components=16)"
      ]
     },
     "execution_count": 9,
     "metadata": {},
     "output_type": "execute_result"
    }
   ],
   "source": [
    "import librosa\n",
    "import numpy as np\n",
    "from sklearn.mixture import GaussianMixture\n",
    "\n",
    "y, sr = librosa.load('./p252_002_mic1.flac')\n",
    "mfcc = librosa.feature.mfcc(y, sr, n_mfcc=13)\n",
    "delta_mfcc = librosa.feature.delta(mfcc)\n",
    "delta2_mfcc = librosa.feature.delta(delta_mfcc)\n",
    "\n",
    "mfcc_features = np.vstack([mfcc, delta_mfcc, delta2_mfcc])\n",
    "gmm = GaussianMixture(n_components=16)\n",
    "gmm.fit(mfcc_features)"
   ]
  },
  {
   "cell_type": "code",
   "execution_count": 13,
   "metadata": {},
   "outputs": [
    {
     "data": {
      "text/plain": [
       "(39,)"
      ]
     },
     "execution_count": 13,
     "metadata": {},
     "output_type": "execute_result"
    }
   ],
   "source": [
    "gmm.predict(mfcc_features).shape"
   ]
  },
  {
   "cell_type": "code",
   "execution_count": null,
   "metadata": {},
   "outputs": [],
   "source": []
  }
 ],
 "metadata": {
  "kernelspec": {
   "display_name": "Python 3.8.10 ('serab')",
   "language": "python",
   "name": "python3"
  },
  "language_info": {
   "codemirror_mode": {
    "name": "ipython",
    "version": 3
   },
   "file_extension": ".py",
   "mimetype": "text/x-python",
   "name": "python",
   "nbconvert_exporter": "python",
   "pygments_lexer": "ipython3",
   "version": "3.8.10"
  },
  "vscode": {
   "interpreter": {
    "hash": "993b4f41d035a9600f4a883796b4aed3b9d432fcb6f84c031ca1e7ebf948a22f"
   }
  }
 },
 "nbformat": 4,
 "nbformat_minor": 2
}